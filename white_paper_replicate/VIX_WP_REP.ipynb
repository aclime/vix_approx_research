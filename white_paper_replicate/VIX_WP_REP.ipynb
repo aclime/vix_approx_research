{
  "cells": [
    {
      "cell_type": "code",
      "execution_count": 5,
      "metadata": {},
      "outputs": [
        {
          "data": {
            "text/plain": [
              "'/Users/austinclime/vs_code_projects/vix_approx/vix_approx_research/white_paper_replicate'"
            ]
          },
          "execution_count": 5,
          "metadata": {},
          "output_type": "execute_result"
        }
      ],
      "source": [
        "import os\n",
        "os.getcwd()"
      ]
    },
    {
      "cell_type": "code",
      "execution_count": 2,
      "metadata": {
        "id": "9mrn_ic5vmeE"
      },
      "outputs": [],
      "source": [
        "from datetime import timedelta\n",
        "import pytz\n",
        "import datetime\n",
        "\n",
        "import pandas as pd\n",
        "import numpy as np\n",
        "from numpy.linalg import inv\n",
        "\n",
        "\n",
        "import matplotlib.pyplot as plt\n",
        "import timeit"
      ]
    },
    {
      "cell_type": "markdown",
      "metadata": {
        "id": "qSF7zHkaglDf"
      },
      "source": [
        "# **Introduction**"
      ]
    },
    {
      "cell_type": "markdown",
      "metadata": {
        "id": "nssFb3T-k2cG"
      },
      "source": [
        "### The VIX originates from trying to price the log contract, which pays off log($\\frac{S(T)}{S(0)}$) at time T. The log contract gives us insight about expected future volatility.\n",
        "\n",
        "### The value of the log contract is: $E^*[e^{-rT} log(\\frac{S(T)}{S(0)})] = e^{-rT}E^*[rT - \\frac{1}{2} \\int_{0}^{T} \\sigma(t)^2 \\,dt]$\n",
        "\n",
        "### The objective of the VIX is to replicate the payoff of the log contract using a portfolio of out-of-the money options on the S&P 500 Index."
      ]
    },
    {
      "cell_type": "markdown",
      "metadata": {
        "id": "uFRPca0vdLCm"
      },
      "source": [
        "### Let $ \\hat{\\sigma}^2 = \\frac{1}{T} E^*[\\int_{0}^{T} \\sigma(t)^2 \\,dt ]$ and $F_{0,T} = e^{rT}S(0)$\n",
        "\n",
        "### Then $ \\hat{\\sigma}^2 = \\frac{2e^{rT}}{T} (\\int_{0}^{F_{0,T}} \\frac{1}{K^2} P(K) \\,dK + \\int_{F_{0,T}}^{\\infty} \\frac{1}{K^2} C(K) \\,dK)$\n",
        "\n",
        "### where P(K) is a put with strike price K and C(K) is a call strike price K"
      ]
    },
    {
      "cell_type": "markdown",
      "metadata": {
        "id": "IPo9vCJuhfMn"
      },
      "source": [
        "### We can think about the VIX as a portfolio of options that approximates the following: $\\hat{\\sigma} = \\frac{2e^{rT}}{T} (\\,\\sum_{K_i \\leq K_0}{\\frac{\\Delta K_i}{K_i^2}P(K_i)} +  \\sum_{K_i > K_0}{\\frac{\\Delta K_i}{K_i^2}C(K_i)} \\,)-\\frac{1}{T}(\\frac{e^{rT}S(0)}{K_0} - 1)^2$\n",
        "\n",
        "### where $K_0$ is the first strike price below $e^{rT}S(0), \\Delta K_i = \\frac{K_{i} - K_{i-1}}{2}$. The last term is a correction term for the fact that there may not be an option with strike price equal to $e^{rT}S(0)$. It is the interval between strike prices - half the difference between the strike on either side of $K_i$.\n",
        "\n",
        "### (**Note**: $\\Delta$K for the lowest strike is simply the difference between the lowest strike and the next higher strike. Likewise, $\\Delta$K for the highest strike is the difference between the highest strike and the next lower strike.)\n",
        "\n",
        "### Q($K_i$) is the midpoint of the bid-ask spread for each option with strike $K_i$"
      ]
    },
    {
      "cell_type": "markdown",
      "metadata": {
        "id": "usp7TmOkiXYC"
      },
      "source": [
        "### The framework below for pricing the VIX is adapted from the CBOE's 2009 White Paper. I will mimic the paper's computations and contents here in this notebook. The paper can be accessed here for reference: https://cdn.cboe.com/resources/vix/vixwhite.pdf  "
      ]
    },
    {
      "cell_type": "markdown",
      "metadata": {
        "id": "oqRb74y0rdv2"
      },
      "source": [
        "# **Mechanics of the VIX**"
      ]
    },
    {
      "cell_type": "markdown",
      "metadata": {
        "id": "WgzMqY93sAt_"
      },
      "source": [
        "### The VIX Index measures 30-day expected volatility of the S&P 500 Index. The components of the VIX Index are near- and next-term put and call options with more than 23 days and less than 37 days to expiration. These include SPX options with “standard” 3rd Friday expiration dates and “weekly” SPX options that expire every Friday, except the 3rd Friday of each month. Once each week, the SPX options used to calculate the VIX Index “roll” to new contract maturities. For example, on the second Tuesday in October, the VIX Index would be calculated using SPX options expiring 24 days later (i.e., “near- term”) and 31 days later (i.e., “next-term”). On the following day, the SPX options that expire in 30 calendar days would become the “near-term” options and SPX options that expire in 37 calendar days would be the “next-term” options."
      ]
    },
    {
      "cell_type": "markdown",
      "metadata": {
        "id": "K6JQ8F7Mz7XB"
      },
      "source": [
        "### In this hypothetical example, the near-term options are “standard” SPX options with 25 days to expiration, the next-term options are P.M.-settled SPX Weeklys with 32 days to expiration; and the calculation reflects prices observed at 9:46 a.m. ET. For the purpose of calculating time to expiration, “standard” SPX options are deemed to expire at the open of trading on SPX settlement day - the third Friday of the month, and “weekly” SPX options are deemed to expire at the close of trading (i.e., 4:00 p.m. ET)."
      ]
    },
    {
      "cell_type": "markdown",
      "metadata": {
        "id": "XQCnUpiSsFo-"
      },
      "source": [
        "### The VIX calculation measures time to expiration, T, in calendar days and divides each day into minutes in order to replicate the precision that is commonly used by professional option and volatility traders. The time to expiration is given by the following expression:\n",
        "\n",
        "### T = {$M_{Current\\,day} + M_{Settlement\\,day} + M_{Other\\,days}$} / Minutes in a year\n",
        "\n",
        "### Where:\n",
        "### $M_{Current\\,day}$ = minutes remaining until midnight of the current day\n",
        "### $M_{Settlement\\,day}$ = minutes from midnight until 9:30 a.m. ET for \"standard\" SPX expirations; or minutes from midnight until 4:00 p.m. ET for \"weekly\" SPX options\n",
        "### $M_{Other\\,days}$ = total minutes in the days between current day and expiration day"
      ]
    },
    {
      "cell_type": "code",
      "execution_count": null,
      "metadata": {
        "colab": {
          "base_uri": "https://localhost:8080/"
        },
        "id": "RulIGU4fRXAA",
        "outputId": "ec14b114-c0b7-44b1-90e0-e5ba91bed173"
      },
      "outputs": [
        {
          "name": "stdout",
          "output_type": "stream",
          "text": [
            "-1 day, 20:00:00\n",
            "2020-11-19 09:46:00-04:00\n",
            "2020-10-26 09:46:00-04:00\n",
            "[numpy.datetime64('2020-11-20T13:46:00.000000000'), numpy.datetime64('2020-11-27T13:46:00.000000000')]\n",
            "[numpy.datetime64('2020-11-20T13:46:00.000000000'), numpy.datetime64('2020-11-27T13:46:00.000000000')]\n",
            "[numpy.datetime64('2020-11-20T13:46:00.000000000')]\n",
            "True\n",
            "-----------------\n",
            "standard\n",
            "2020-11-20 09:30:00\n",
            "25 days 00:44:00\n",
            "weekly\n",
            "2020-11-27 16:00:00\n",
            "32 days 07:14:00\n",
            "~~~~~~~~~~~~~~~~~~~~~~~~~\n",
            "[Timestamp('2020-11-20 09:30:00-0500', tz='US/Eastern'), Timestamp('2020-11-27 16:00:00-0500', tz='US/Eastern')]\n",
            "~~~~~~~~~~~~~~~~~~~~~~~~~\n",
            "- - - - - - - - - - - - - - - - - - - \n",
            "- - - - - - - - - - - - - - - - - - - \n",
            "-1 day, 19:00:00\n",
            "-1 day, 19:00:00\n"
          ]
        }
      ],
      "source": [
        "#def opt_expir(td):\n",
        "  #return near_term_exp_ch, next_term_exp_ch\n",
        "\n",
        "td = datetime.datetime(2020, 10, 26, 9, 46)\n",
        "td = pytz.timezone('US/Eastern').localize(td)\n",
        "print( td.utcoffset() )\n",
        "\n",
        "lb = (td + timedelta(days=24))\n",
        "#lb = pytz.timezone('US/Eastern').localize( lb )\n",
        "ub = (td + timedelta(days=37))\n",
        "#ub = pytz.timezone('US/Eastern').localize( ub )\n",
        "print(lb)\n",
        "print(td)\n",
        "\n",
        "#print( pd.date_range('2019-12-31','2020-12-31',freq='WOM-3FRI') )\n",
        "\n",
        "#print( pd.date_range(lb, ub,freq='W-FRI', tz='US/Eastern') )\n",
        "print( list( pd.date_range(lb, ub,freq='W-FRI', tz='US/Eastern').values ) )\n",
        "fridays = list( pd.date_range(lb, ub,freq='W-FRI', tz='US/Eastern').values )\n",
        "third_fri = list( pd.date_range(lb, ub,freq='WOM-3FRI', tz='US/Eastern').values )\n",
        "\n",
        "print(fridays)\n",
        "print(third_fri)\n",
        "print( third_fri in fridays )\n",
        "print('-----------------')\n",
        "expir = []\n",
        "for fri in fridays:\n",
        "  if fri in third_fri: #Standard SPX\n",
        "    print('standard')\n",
        "    fri = pd.to_datetime(str(fri))\n",
        "    #print(pytz.timezone('US/Eastern').localize( fri ) - td)\n",
        "    print(fri.replace(hour=9, minute=30))\n",
        "    print( pytz.timezone('US/Eastern').localize( fri.replace(hour=9, minute=30) ) - td )\n",
        "    expir.append( pytz.timezone('US/Eastern').localize( fri.replace(hour=9, minute=30) ) )\n",
        "\n",
        "  else:               #Weekly SPX\n",
        "    print('weekly')\n",
        "    fri = pd.to_datetime(str(fri))\n",
        "    #print(pytz.timezone('US/Eastern').localize( fri ) - td)\n",
        "    print(fri.replace(hour=16, minute=0))\n",
        "    print( pytz.timezone('US/Eastern').localize( fri.replace(hour=16, minute=0) ) - td )\n",
        "    expir.append( pytz.timezone('US/Eastern').localize( fri.replace(hour=16, minute=0) ) )\n",
        "\n",
        "print('~~~~~~~~~~~~~~~~~~~~~~~~~')\n",
        "print(expir)\n",
        "print('~~~~~~~~~~~~~~~~~~~~~~~~~')\n",
        "print('- - - - - - - - - - - - - - - - - - - ')\n",
        "near_term_exp_ch = min(expir)\n",
        "next_term_exp_ch = max(expir)\n",
        "\n",
        "print('- - - - - - - - - - - - - - - - - - - ')\n",
        "print(near_term_exp_ch.utcoffset() )\n",
        "print(next_term_exp_ch.utcoffset() )"
      ]
    },
    {
      "cell_type": "markdown",
      "metadata": {
        "id": "DDwggxaJ768_"
      },
      "source": [
        "### Using 9:46 a.m. ET as the time of the calculation, T for the near-term and next-term options, T1 and T2, respectively, is:\n",
        "\n",
        "**$T_1$ = {854 + 510 + 34,560} / 525,600 = 0.0683486**\n",
        "\n",
        "**$T_2$ = {854 + 900 + 44,640} / 525,600 = 0.0882686**  "
      ]
    },
    {
      "cell_type": "code",
      "execution_count": null,
      "metadata": {
        "colab": {
          "base_uri": "https://localhost:8080/"
        },
        "id": "8Ws0uy59rdAd",
        "outputId": "793e9732-bd42-4b5b-ad56-9a64f63fc767"
      },
      "outputs": [
        {
          "name": "stdout",
          "output_type": "stream",
          "text": [
            "Near-term time-to-maturity: 0.0683486 years\n",
            "Next-term time-to-maturity: 0.0882686 years\n"
          ]
        }
      ],
      "source": [
        "days_per_year = 365 #calendar, not trading days\n",
        "minutes_per_year = days_per_year * 24 * 60\n",
        "minutes_per_day = 24 * 60\n",
        "\n",
        "\n",
        "def M_current_day(td):\n",
        "  M_current_day = datetime.datetime.combine(td.date(), datetime.datetime.max.time()) #midnight of the current day\n",
        "  M_current_day = pytz.timezone('US/Eastern').localize(M_current_day)\n",
        "  M_current_day -= td\n",
        "  M_current_day = round(M_current_day.seconds / 60)\n",
        "  #print(M_current_day)\n",
        "  return M_current_day\n",
        "\n",
        "def M_settlement_day(settlement_date):\n",
        "  ###\n",
        "  settlement_date  = settlement_date.astimezone('America/Chicago')\n",
        "  ###\n",
        "  M_settlement_day = datetime.datetime.combine(settlement_date.date(), datetime.datetime.min.time()) #midnight of the current day\n",
        "  M_settlement_day = pytz.timezone('America/Chicago').localize(M_settlement_day)\n",
        "  M_settlement_day = settlement_date - M_settlement_day\n",
        "  M_settlement_day = M_settlement_day.seconds / 60\n",
        "  ###\n",
        "  #M_settlement_day = M_settlement_day.astimezone('US/Eastern')\n",
        "  ###\n",
        "  #print(M_settlement_day)\n",
        "  return M_settlement_day\n",
        "\n",
        "def M_other_days(settlement_day, current_day):\n",
        "  settlement_day = datetime.datetime.combine(settlement_day.date(), datetime.datetime.min.time())\n",
        "  current_day = datetime.datetime.combine(current_day.date(), datetime.datetime.max.time())\n",
        "  M_other_days = settlement_day - current_day\n",
        "  M_other_days = M_other_days.days * (24*60)\n",
        "  #print(M_other_days)\n",
        "  return M_other_days\n",
        "\n",
        "def opt_time_to_mat(M_current_day, M_settlement_day, M_other_days):\n",
        "  days_per_year = 365\n",
        "  minutes_per_year = days_per_year * 24 * 60\n",
        "  T = M_current_day + M_settlement_day + M_other_days\n",
        "  T /= minutes_per_year\n",
        "  return T\n",
        "\n",
        "T1 = opt_time_to_mat(M_current_day=M_current_day(td=td),\n",
        "                     M_settlement_day=M_settlement_day(near_term_exp_ch),\n",
        "                     M_other_days=M_other_days(settlement_day = near_term_exp_ch, current_day=td))\n",
        "\n",
        "T2 = opt_time_to_mat(M_current_day=M_current_day(td=td),\n",
        "                     M_settlement_day=M_settlement_day(next_term_exp_ch),\n",
        "                     M_other_days=M_other_days(settlement_day = next_term_exp_ch, current_day=td))\n",
        "\n",
        "\n",
        "print(f'Near-term time-to-maturity: {T1:.7f} years')\n",
        "print(f'Next-term time-to-maturity: {T2:.7f} years')"
      ]
    },
    {
      "cell_type": "markdown",
      "metadata": {
        "id": "-H7gOlX6Idry"
      },
      "source": [
        "### The risk-free interest rates, $R_1$ and $R_2$, are yields based on U.S. Treasury yield curve rates (commonly referred to as “Constant Maturity Treasury” rates or CMTs), to which a cubic spline is applied to derive yields on the expiration dates of relevant SPX options. As such, the VIX Index calculation may use different risk-free interest rates for near- and next-term options. In this example, assume that $R_1$ = 0.0305% for the near-term options and that $R_2$ = 0.0286% for the next-term options. Note in this example, $T_2$ uses a value of 900 for MSettlement day, which reflects the 4:00 p.m. ET expiration time of the next-term SPX Weeklys options. Since many of the interim calculations are repetitive, only representative samples appear below."
      ]
    },
    {
      "cell_type": "code",
      "execution_count": null,
      "metadata": {
        "id": "0-zKH2r6MgdK"
      },
      "outputs": [],
      "source": [
        "R1 = 0.0305 / 100\n",
        "R2 = 0.0286 / 100"
      ]
    },
    {
      "cell_type": "markdown",
      "metadata": {
        "id": "8HjYan99-OtH"
      },
      "source": [
        "# ***STEP 1*** - Select the options to be used in the VIX calculation"
      ]
    },
    {
      "cell_type": "code",
      "execution_count": null,
      "metadata": {
        "id": "Lw1ZyBES-dmM"
      },
      "outputs": [],
      "source": [
        "\"\"\"\n",
        "#I use google sheets to read in the spreadsheet -- you can use read_csv\n",
        "gc = gspread.authorize(GoogleCredentials.get_application_default())\n",
        "wb = gc.open_by_url('https://docs.google.com/spreadsheets/d/1iCTSsGRwz8-ASJcCHEwKVSUXF-yPMnkruCUvPp3lunw/edit#gid=1712546072')\n",
        "\n",
        "def opt_df(opt_maturity_str):\n",
        "  sheet = wb.worksheet(opt_maturity_str)\n",
        "  df = pd.DataFrame( sheet.get_all_records() )\n",
        "  df.set_index('Strike', drop=True,inplace=True)\n",
        "  return df\n",
        "\n",
        "near_term_opts = opt_df('Near-Term Options')\n",
        "next_term_opts = opt_df('Next-Term Options')\n",
        "\"\"\""
      ]
    },
    {
      "cell_type": "code",
      "execution_count": 3,
      "metadata": {},
      "outputs": [],
      "source": [
        "near_term_opts=pd.read_excel('VIX_sample_data.xlsx',sheet_name='Near-Term Options')\n",
        "next_term_opts=pd.read_excel('VIX_sample_data.xlsx',sheet_name='Next-Term Options')"
      ]
    },
    {
      "cell_type": "markdown",
      "metadata": {
        "id": "uQjhMwi4cZXv"
      },
      "source": [
        "### The selected options are out-of-the-money SPX calls and out-of-the-money SPX puts centered around an at-the-money strike price, $K_0$. Only SPX options quoted with non-zero bid prices are used in the VIX calculation.\n",
        "\n",
        "### **One important note**: as volatility rises and falls, the strike price range of options with non- zero bids tends to expand and contract. As a result, the number of options used in the VIX calculation may vary from month-to-month, day-to-day and possibly, even minute-to- minute."
      ]
    },
    {
      "cell_type": "markdown",
      "metadata": {
        "id": "vYjPSZSHcuLF"
      },
      "source": [
        "### For each contract month:\n",
        "\n",
        "### a) Determine the forward SPX level, F, by identifying the strike price at which the absolute difference between the call and put prices is smallest. The call and put prices in the following table reflect the average of each option’s bid / ask quotation. As shown below, the difference between the call and put prices is smallest at the **1965** strike for the near- and the **1960** strike for the next-term options."
      ]
    },
    {
      "cell_type": "markdown",
      "metadata": {
        "id": "UAVY71NwxYfb"
      },
      "source": [
        "### Using the 1965 call and put in the near-term, and the 1960 call and put in the next-term contract applied to the formula:\n",
        "### F = Strike Price + $e^{RT}$ × (Call Price – Put Price),\n",
        "\n",
        "#### the forward index prices, F1 and F2, for the near- and next-term options, respectively, are:"
      ]
    },
    {
      "cell_type": "code",
      "execution_count": null,
      "metadata": {
        "id": "DaZ7KOLnbsiW"
      },
      "outputs": [],
      "source": [
        "def fwd_price(df, R, T):\n",
        "  df['Absolute Difference'] = df[['Call Bid', 'Call Ask']].mean(axis=1)\n",
        "  df['Absolute Difference'] -= df[['Put Bid', 'Put Ask']].mean(axis=1)\n",
        "  df['Absolute Difference'] = df['Absolute Difference'].abs()\n",
        "  #min_diff = df['Absolute Difference'].idxmin()\n",
        "\n",
        "  row_min_diff = df[ df['Absolute Difference'] == df['Absolute Difference'].min() ]\n",
        "  Call = row_min_diff[['Call Bid', 'Call Ask']].mean(axis=1).values\n",
        "  Put = row_min_diff[['Put Bid', 'Put Ask']].mean(axis=1).values\n",
        "  F = float(  row_min_diff.index[0] + np.exp(R*T) * (Call - Put) )\n",
        "  return F\n",
        "\n",
        "F2 = fwd_price(next_term_opts, R2, T2)\n",
        "F1 = fwd_price(near_term_opts, R1, T1)"
      ]
    },
    {
      "cell_type": "markdown",
      "metadata": {
        "id": "NpXCrV4q33NC"
      },
      "source": [
        "### b) Next, determine **$K_0$** -- the strike price immediately below the forward index level, F -- for the near- and next-term options. In this example, **$K_{0,1}$** = **1960** and **$K_{0,2}$** = **1960**."
      ]
    },
    {
      "cell_type": "code",
      "execution_count": null,
      "metadata": {
        "id": "ky8AGL7Q-6IC"
      },
      "outputs": [],
      "source": [
        "def min_diff(df, F):\n",
        "  min_diff = next_term_opts.index[next_term_opts.index < F2].max()\n",
        "  return min_diff\n",
        "\n",
        "min_diff_near = min_diff(near_term_opts, F1)\n",
        "min_diff_next = min_diff(next_term_opts, F2)"
      ]
    },
    {
      "cell_type": "markdown",
      "metadata": {
        "id": "h48LVRCc4SxO"
      },
      "source": [
        "### c) Select out-of-the-money put options with strike prices < $K_0$. Start with the put strike immediately lower than $K_0$ and move to successively lower strike prices. Exclude any put option that has a bid price equal to zero (i.e., no bid). As shown below, once two puts with consecutive strike prices are found to have zero bid prices, no puts with lower strikes are considered for inclusion. **(Note that the 1350 and 1355 put options are not included despite having non-zero bid prices.)**\n",
        "\n",
        "### d) Next, select out-of-the-money call options with strike prices > $K_0$. Start with the call strike immediately higher than $K_0$ and move to successively higher strike prices, excluding call options that have a bid price of zero. As with the puts, once two consecutive call options are found to have zero bid prices, no calls with higher strikes are considered. (**Note that the 2225 call option is not included despite having a non- zero bid price.**)"
      ]
    },
    {
      "cell_type": "code",
      "execution_count": null,
      "metadata": {
        "id": "1vdMT7K-VKMS"
      },
      "outputs": [],
      "source": [
        "def cons_bids(col, threshold=2, opt_type='Put'):\n",
        "  #Puts\n",
        "  indicator = 0\n",
        "  if opt_type == 'Put':\n",
        "    for i in sorted(col.index, reverse=True):\n",
        "      #print( col.loc[i] )\n",
        "      #print( col.iloc[ col.index.get_loc(i)-1] )\n",
        "      if (col.loc[i] == 0) & (col.iloc[ col.index.get_loc(i)-1] == 0):\n",
        "        indicator = threshold\n",
        "      if indicator == threshold:\n",
        "        return col[ col.index > i][:,]\n",
        "    if indicator < threshold:\n",
        "      return col\n",
        "\n",
        "  #Calls\n",
        "  else:\n",
        "    for i in sorted(col.index, reverse=False):\n",
        "      if (col.loc[i] == 0) & (col.iloc[ col.index.get_loc(i)-1] == 0):\n",
        "        indicator = threshold\n",
        "      if indicator == threshold:\n",
        "        return col[ col.index < i][:,]\n",
        "    if indicator < threshold:\n",
        "      return col\n",
        "\n",
        "#col[ col.index < i][:-1,]"
      ]
    },
    {
      "cell_type": "code",
      "execution_count": null,
      "metadata": {
        "id": "6PTv0VgY4buA"
      },
      "outputs": [],
      "source": [
        "K0_near = near_term_opts.index[near_term_opts.index < F1 ][-1]\n",
        "K0_next = next_term_opts.index[next_term_opts.index < F2 ][-1]\n",
        "\n",
        "#Near-Term Options\n",
        "#Puts\n",
        "near_puts_used = near_term_opts[ near_term_opts.index < K0_near]\n",
        "near_puts_used = cons_bids(col=near_puts_used['Put Bid'], threshold=2, opt_type='Put')\n",
        "near_puts_used = near_puts_used[near_puts_used>0]\n",
        "#Calls\n",
        "near_calls_used = near_term_opts[ near_term_opts.index > K0_near]\n",
        "near_calls_used = cons_bids(col=near_calls_used['Call Bid'], threshold=2, opt_type='Call')\n",
        "near_calls_used = near_calls_used[near_calls_used>0]\n",
        "\n",
        "#Next-Term Options\n",
        "#Puts\n",
        "next_puts_used = next_term_opts[ next_term_opts.index < K0_next]\n",
        "next_puts_used = cons_bids(col=next_puts_used['Put Bid'], threshold=2, opt_type='Put')\n",
        "next_puts_used = next_puts_used[next_puts_used>0]\n",
        "#Calls\n",
        "next_calls_used = next_term_opts[ next_term_opts.index > K0_next]\n",
        "next_calls_used = cons_bids(col=next_calls_used['Call Bid'], threshold=2, opt_type='Call')\n",
        "next_calls_used = next_calls_used[next_calls_used>0]"
      ]
    },
    {
      "cell_type": "markdown",
      "metadata": {
        "id": "0TUv_qdr4dN1"
      },
      "source": [
        "### e) Finally, select **both** the put and call with strike price **$K_0$**. Notice that two options are selected at **$K_0$**, while a single option, either a put or a call, is used for every other strike price.)"
      ]
    },
    {
      "cell_type": "markdown",
      "metadata": {
        "id": "Eu8ZatRsXtMt"
      },
      "source": [
        "### The following table contains the options used to calculate the VIX in this example. VIX uses the average of quoted bid and ask, or mid-quote, prices for each option selected. The $K_0$ put and call prices are averaged to produce a single value. The price used for the 920 strike in the near-term is, therefore, (24.25 + 21.30)/2 = 22.775; and the price used in the next-term is (27.30 + 24.90)/2 = 26.10."
      ]
    },
    {
      "cell_type": "code",
      "execution_count": null,
      "metadata": {
        "id": "HMXaeU4J-CYN"
      },
      "outputs": [],
      "source": [
        "def opts_used(opt_df, calls_used, puts_used, min_diff):\n",
        "  opts_used = opt_df.loc[calls_used.index.append(puts_used.index)]\n",
        "  opts_used['Option Type'] = opts_used.index\n",
        "  opts_used['Option Type'] = opts_used['Option Type'].apply( lambda x: 'Call' if x > min_diff else 'Put')\n",
        "  opts_used['Mid-quote Price'] = 0\n",
        "\n",
        "  opts_used['Call Midquote'] = opts_used[['Call Bid', 'Call Ask']].mean(axis=1).values\n",
        "  opts_used['Put Midquote'] = opts_used[['Put Bid', 'Put Ask']].mean(axis=1).values\n",
        "\n",
        "  opts_used['Mid-quote Price'] =  opts_used.apply(lambda x : x['Call Midquote'] if x['Option Type'] == 'Call' else x['Put Midquote'], axis=1)\n",
        "  opts_used = opts_used[['Mid-quote Price', 'Option Type']]\n",
        "\n",
        "  put_call_avg = opt_df.loc[min_diff][['Call Bid', 'Call Ask', 'Put Bid', 'Put Ask']].mean()\n",
        "  new_row = pd.Series(data={'Mid-quote Price':put_call_avg, 'Option Type':'Put/Call Average'}, name=min_diff)\n",
        "  opts_used = opts_used.append(new_row, ignore_index=False)\n",
        "\n",
        "  opts_used.sort_index(inplace=True)\n",
        "  return opts_used\n",
        "\n",
        "near_opts_used = opts_used(near_term_opts, near_calls_used, near_puts_used, min_diff_near)\n",
        "next_opts_used = opts_used(next_term_opts, next_calls_used, next_puts_used, min_diff_next)"
      ]
    },
    {
      "cell_type": "markdown",
      "metadata": {
        "id": "fsyJZB1wPVwM"
      },
      "source": [
        "# ***STEP 2*** - Calculate volatility for both near-term and next-term options"
      ]
    },
    {
      "cell_type": "markdown",
      "metadata": {
        "id": "y14Di4v5QVrP"
      },
      "source": [
        "### Applying the VIX formula (1) to the near-term and next-term options with time to expiration of $T_1$ and $T_2$, respectively, yields:\n",
        "\n",
        "### $\\sigma^2_1 = \\frac{2}{T_1} \\sum_i \\frac{\\Delta K_i}{K_i^2}e^{RT_i} Q(K_i) - \\frac{1}{T_1}[\\frac{F_1}{K_0}-1]^2$\n",
        "\n",
        "### $\\sigma^2_2 = \\frac{2}{T_2} \\sum_i \\frac{\\Delta K_i}{K_i^2}e^{RT_2} Q(K_i) - \\frac{1}{T_2}[\\frac{F_2}{K_0}-1]^2$"
      ]
    },
    {
      "cell_type": "markdown",
      "metadata": {
        "id": "4_wWjIm9UfpK"
      },
      "source": [
        "### VIX is an amalgam of the information reflected in the prices of all of the selected options. The contribution of a single option to the VIX value is proportional to ∆K and the price of that option, and inversely proportional to the square of the option’s strike price.\n",
        "\n",
        "### Generally, ∆$K_i$ is half the difference between the strike prices on either side of $K_i$. For example, the ∆K for the next-term 1325 Put is 37.5: $∆K_{1325 Put}$ = (1350 – 1275)/2. At the upper and lower edges of any given strip of options, ∆$K_i$ is simply the difference between $K_i$ and the adjacent strike price. In this example, the 1370 Put is the lowest strike in the strip of near-term options and 425 is the adjacent strike. Therefore, ∆$K_{1370 Put}$ = 5 (i.e., 1375 – 1370)."
      ]
    },
    {
      "cell_type": "markdown",
      "metadata": {
        "id": "juVWqJpeVNFT"
      },
      "source": [
        "### The contribution of the near-term 400 Put is given by:\n",
        "\n",
        "### $\\frac{\\Delta K_{1370 Put}}{K^2_{1370 Put}} e^{RT_1} Q(1370 Put) = \\frac{5}{1370} e^{.000305(0.0683486)} (0.20) = 0.0000005328$\n"
      ]
    },
    {
      "cell_type": "markdown",
      "metadata": {
        "id": "326ZhW64VB2d"
      },
      "source": [
        "### A similar calculation is performed for each option. The resulting values for the near-term options are then summed and multiplied by 2/$T_1$ . Likewise, the resulting values for the next-term options are summed and multiplied by 2/$T_2$ . The table below summarizes the results for each strip of options."
      ]
    },
    {
      "cell_type": "code",
      "execution_count": null,
      "metadata": {
        "id": "FUBT2USFFhw8"
      },
      "outputs": [],
      "source": [
        "def strik_contr(opts_used, R, T):\n",
        "  opts_used['Contribution by Strike'] = opts_used.index\n",
        "  opts_used['Contribution by Strike'] = opts_used['Contribution by Strike'].shift(-1) - opts_used['Contribution by Strike'].shift(1)\n",
        "  opts_used['Contribution by Strike'] /= 2\n",
        "  idx_num = opts_used.columns.tolist().index('Contribution by Strike')\n",
        "  opts_used.iloc[0, idx_num] = (opts_used.iloc[1].name - opts_used.iloc[0].name)\n",
        "  opts_used.iloc[-1,idx_num] = (opts_used.iloc[-1].name - opts_used.iloc[-2].name)\n",
        "  opts_used['Contribution by Strike'] /= opts_used.index**2\n",
        "  opts_used['Contribution by Strike'] *= np.exp(R*T)\n",
        "  opts_used['Contribution by Strike'] *= opts_used['Mid-quote Price']\n",
        "  return opts_used\n",
        "\n",
        "next_opts_used = strik_contr(next_opts_used, R2, T2)\n",
        "near_opts_used = strik_contr(near_opts_used, R1, T1)"
      ]
    },
    {
      "cell_type": "markdown",
      "metadata": {
        "id": "5AsbvNyavJIr"
      },
      "source": [
        "### Next, calculate $\\frac{1}{T} [\\frac{F}{K_0} - 1]^2$ for the near-term ($T_1$) and the next-term ($T_2$):\n",
        "\n",
        "### $\\frac{1}{T_1} [\\frac{F_1}{K_0} - 1]^2 = \\frac{1}{0.0683486} [\\frac{1962.89996}{1960} - 1]^2$ = 0.00003203\n",
        "\n",
        "### $\\frac{1}{T_2} [\\frac{F_2}{K_0} - 1]^2 = \\frac{1}{0.0882686} [\\frac{1962.40006}{1960} - 1]^2$ = 0.00001699"
      ]
    },
    {
      "cell_type": "markdown",
      "metadata": {
        "id": "L3mECCdmwzBh"
      },
      "source": [
        "### Now calculate $\\sigma_1^2$ and $\\sigma_2^2$:\n",
        "\n",
        "### $\\sigma^2_1 = \\frac{2}{T_1} \\sum_i \\frac{\\Delta K_i}{K_i^2}e^{RT_i} Q(K_i) - \\frac{1}{T_1}[\\frac{F_1}{K_0}-1]^2$ = 0.018495 - 0.00003203 = **0.01846292**\n",
        "\n",
        "### $\\sigma^2_2 = \\frac{2}{T_2} \\sum_i \\frac{\\Delta K_i}{K_i^2}e^{RT_2} Q(K_i) - \\frac{1}{T_2}[\\frac{F_2}{K_0}-1]^2$ = 0.018838 - 0.00001699 = **0.01882101**"
      ]
    },
    {
      "cell_type": "code",
      "execution_count": null,
      "metadata": {
        "id": "-WBoFW7p2MsK"
      },
      "outputs": [],
      "source": [
        "def first_term(opts_used, T):\n",
        "  first_term = opts_used['Contribution by Strike'].sum()\n",
        "  first_term *= (2/T)\n",
        "  return first_term\n",
        "\n",
        "def second_term(F,K0,T):\n",
        "  second_term = (F/K0)\n",
        "  second_term -= 1\n",
        "  second_term **= 2\n",
        "  second_term *= (1/T)\n",
        "  return second_term\n",
        "\n",
        "sigma_square_near = first_term(near_opts_used, T1) - second_term(F1, K0_near, T1)\n",
        "sigma_square_next = first_term(next_opts_used, T2) - second_term(F2, K0_next, T2)"
      ]
    },
    {
      "cell_type": "markdown",
      "metadata": {
        "id": "dJkE4IhD0x0G"
      },
      "source": [
        "### ***STEP 3*** - Calculate the 30-day weighted average of $\\sigma^2_1$ and $\\sigma^2_2$. Then take the square root of that value and multiply by 100 to get VIX index value"
      ]
    },
    {
      "cell_type": "markdown",
      "metadata": {
        "id": "n8I0vwQs2w0N"
      },
      "source": [
        "### VIX = 100 x $\\sqrt{\\{T_1\\sigma_1^2 [\\frac{N_{T_2} - N_{T_{30}} }{N_{T_2} - N_{T_1}}] + T_2\\sigma_2^2 [\\frac{N_{T_{30}} - N_{T_1} }{N_{T_2} - N_{T_1}}] \\}x\\frac{N_{365}}{N_{30}}}$"
      ]
    },
    {
      "cell_type": "markdown",
      "metadata": {
        "id": "wpl3GnX-5xNG"
      },
      "source": [
        "### When the near-term options have less than 30 days to expiration and the next-term options have more than 30 days to expiration, the resulting VIX value reflects an interpolation of $\\sigma_1^2$ and $\\sigma_2^2$ ;i.e., each individual weight is less than or equal to 1 and the sum of the weights equals 1."
      ]
    },
    {
      "cell_type": "markdown",
      "metadata": {
        "id": "62vk4i0B6Qyi"
      },
      "source": [
        "### $N_{T1}$ = number of minutes to settlement of the near-term options (35,924)\n",
        "### $N_{T2}$ = number of minutes to settlement of the next-term options (46,394)\n",
        "### $N_{T30}$ = number of minutes in 30 days (30 × 1,440 = 43,200)\n",
        "### $N_{T365}$ = number of minutes in a 365-day year (365 ×1,440 = 525,600)"
      ]
    },
    {
      "cell_type": "code",
      "execution_count": null,
      "metadata": {
        "colab": {
          "base_uri": "https://localhost:8080/"
        },
        "id": "UCuC4Me60p-Z",
        "outputId": "84e72ba3-31e3-46e1-90a1-1b97bd89f383"
      },
      "outputs": [
        {
          "data": {
            "text/plain": [
              "13.685820537947876"
            ]
          },
          "execution_count": 40,
          "metadata": {
            "tags": []
          },
          "output_type": "execute_result"
        }
      ],
      "source": [
        "#minutes_per_year\n",
        "minsutes_30_days = 60 * 24 * 30\n",
        "N_T1 = T1 * 365 * 24 * 60\n",
        "N_T2 = T2 * 365 * 24 * 60\n",
        "\n",
        "vix = T1 * sigma_square_near * ( (N_T2 - minsutes_30_days) / (N_T2-N_T1) )\n",
        "vix += T2 * sigma_square_next * ( (minsutes_30_days-N_T1) / (N_T2-N_T1) )\n",
        "vix *= (minutes_per_year/minsutes_30_days)\n",
        "vix = np.sqrt(vix)\n",
        "vix *= 100\n",
        "vix"
      ]
    },
    {
      "cell_type": "markdown",
      "metadata": {
        "id": "F7mJcSsqdnz6"
      },
      "source": [
        "### VIX = 100 x $\\sqrt{\\{0.0683486 x 0.0184629 x [\\frac{46,394 - 43,200}{46,394 - 35,924}] + 0.0882686 x 0.018821 x [\\frac{43,200 - 35,924}{43,394 - 35,924}] \\}x\\frac{525,600}{43,200} }$"
      ]
    },
    {
      "cell_type": "markdown",
      "metadata": {
        "id": "VYLbVAgygmpO"
      },
      "source": [
        "### **VIX = 100 x 0.13685821 = 13.69**"
      ]
    }
  ],
  "metadata": {
    "colab": {
      "provenance": []
    },
    "kernelspec": {
      "display_name": "env",
      "language": "python",
      "name": "python3"
    },
    "language_info": {
      "codemirror_mode": {
        "name": "ipython",
        "version": 3
      },
      "file_extension": ".py",
      "mimetype": "text/x-python",
      "name": "python",
      "nbconvert_exporter": "python",
      "pygments_lexer": "ipython3",
      "version": "3.8.5"
    }
  },
  "nbformat": 4,
  "nbformat_minor": 0
}
