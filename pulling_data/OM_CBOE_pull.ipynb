{
 "cells": [
  {
   "cell_type": "code",
   "execution_count": 100,
   "metadata": {},
   "outputs": [
    {
     "name": "stdout",
     "output_type": "stream",
     "text": [
      "The autoreload extension is already loaded. To reload it, use:\n",
      "  %reload_ext autoreload\n"
     ]
    }
   ],
   "source": [
    "%load_ext autoreload\n",
    "%autoreload 2"
   ]
  },
  {
   "cell_type": "code",
   "execution_count": 35,
   "metadata": {},
   "outputs": [
    {
     "data": {
      "text/plain": [
       "'/Users/austinclime/vs_code_projects/vix_approx/vix_approx_research/pulling_data'"
      ]
     },
     "execution_count": 35,
     "metadata": {},
     "output_type": "execute_result"
    }
   ],
   "source": [
    "import os\n",
    "os.getcwd()"
   ]
  },
  {
   "cell_type": "code",
   "execution_count": 3,
   "metadata": {},
   "outputs": [],
   "source": [
    "import wrds"
   ]
  },
  {
   "cell_type": "code",
   "execution_count": 67,
   "metadata": {},
   "outputs": [],
   "source": [
    "import pandas as pd\n",
    "import io"
   ]
  },
  {
   "cell_type": "code",
   "execution_count": 36,
   "metadata": {},
   "outputs": [
    {
     "name": "stdout",
     "output_type": "stream",
     "text": [
      "Loading library list...\n",
      "Done\n"
     ]
    }
   ],
   "source": [
    "db = wrds.Connection(wrds_username='aclime2')\n",
    "#db.create_pgpass_file()#aclime2\n",
    "#db.close()"
   ]
  },
  {
   "cell_type": "markdown",
   "metadata": {},
   "source": [
    "# OptionMetrics Pull"
   ]
  },
  {
   "cell_type": "code",
   "execution_count": 118,
   "metadata": {},
   "outputs": [
    {
     "name": "stdout",
     "output_type": "stream",
     "text": [
      "\n",
      "    SELECT *\n",
      "    FROM optionm.opprcd2023 AS tbl \n",
      "    WHERE secid = 108105\n",
      "    \n",
      "SPX 2021 1\n"
     ]
    },
    {
     "name": "stderr",
     "output_type": "stream",
     "text": [
      "\u001b[31mRequest \"PUT https://upload.app.box.com/api/2.0/files/upload_sessions/4A43699F61115DF102286C6B0EEFDA41\" failed with ConnectionError exception: ConnectionError(ProtocolError('Connection aborted.', ConnectionResetError(54, 'Connection reset by peer')))\u001b[0m\n"
     ]
    },
    {
     "name": "stdout",
     "output_type": "stream",
     "text": [
      "SPX 2021 2\n",
      "SPX 2021 3\n",
      "SPX 2021 4\n",
      "SPX 2021 5\n",
      "SPX 2021 6\n",
      "SPX 2021 7\n",
      "SPX 2021 8\n",
      "SPX 2021 9\n",
      "SPX 2021 10\n",
      "SPX 2021 11\n",
      "SPX 2021 12\n",
      "SPX 2022 1\n",
      "SPX 2022 2\n",
      "SPX 2022 3\n",
      "SPX 2022 4\n",
      "SPX 2022 5\n",
      "SPX 2022 6\n",
      "SPX 2022 7\n",
      "SPX 2022 8\n",
      "SPX 2022 9\n",
      "SPX 2022 10\n",
      "SPX 2022 11\n",
      "SPX 2022 12\n"
     ]
    }
   ],
   "source": [
    "import sys\n",
    "current_dir=r'/Users/austinclime/vs_code_projects/vix_approx/vix_approx_research/pulling_data'\n",
    "new_dir=r'/Users/austinclime/vs_code_projects/vix_approx/vix_approx_research/VIX_SKEW_replication'\n",
    "os.chdir(new_dir)\n",
    "from VIX_SKEW_replication.box_client import upload_to_box\n",
    "os.chdir(current_dir)\n",
    "\n",
    "from OptionMetrics_query import option_metric_query\n",
    "query=option_metric_query('SPX',2023)\n",
    "#query=option_metric_query('SPX',2023,month=7,day=3)\n",
    "print(query)\n",
    "\n",
    "years=range(2021,2022+1)\n",
    "ticks=['SPX']\n",
    "\n",
    "\n",
    "#for tick in ticks:\n",
    "#    for year in years:\n",
    "#        print(tick,year)\n",
    "#        query=option_metric_query(tick,2023)\n",
    "#        df = db.raw_sql(query)\n",
    "#        dest=fr'OptionMetrics/{tick}_{year}.csv'\n",
    "#        dest=fr'OptionMetrics/{tick}_{year}.csv'\n",
    "#        df.to_csv(dest)\n",
    "\n",
    "file_paths=[]\n",
    "\n",
    "for tick in ticks:\n",
    "    for year in years:\n",
    "        for month in range(1,12+1)[:]:\n",
    "            print(tick,year,month)\n",
    "            #query=option_metric_query(tick,2023,month=month) #bug\n",
    "            query=option_metric_query(tick,year,month=month)\n",
    "            try:\n",
    "                df = db.raw_sql(query)\n",
    "                dest=fr'OptionMetrics/{tick}_{year}_{month}.csv'\n",
    "                #df.to_csv(dest)\n",
    "                csv_data=df.to_csv(dest)\n",
    "                flo = io.StringIO(csv_data)\n",
    "                #upload_to_box(flo,dest.split(r'/')[-1])\n",
    "                upload_to_box(dest,dest.split(r'/')[-1])\n",
    "\n",
    "                file_paths.append(dest)\n",
    "                \n",
    "            except:\n",
    "                print('skipping')\n",
    "\n",
    "        "
   ]
  },
  {
   "cell_type": "code",
   "execution_count": null,
   "metadata": {},
   "outputs": [],
   "source": []
  },
  {
   "cell_type": "code",
   "execution_count": 112,
   "metadata": {},
   "outputs": [],
   "source": [
    "\n",
    "import sys\n",
    "current_dir=r'/Users/austinclime/vs_code_projects/vix_approx/vix_approx_research/pulling_data'\n",
    "new_dir=r'/Users/austinclime/vs_code_projects/vix_approx/vix_approx_research/VIX_SKEW_replication'\n",
    "os.chdir(new_dir)\n",
    "from VIX_SKEW_replication.box_client import get_folder_id\n",
    "get_folder_id()\n",
    "os.chdir(current_dir)\n"
   ]
  },
  {
   "cell_type": "markdown",
   "metadata": {},
   "source": [
    "# CBOE VIX"
   ]
  },
  {
   "cell_type": "code",
   "execution_count": 12,
   "metadata": {},
   "outputs": [
    {
     "data": {
      "text/html": [
       "<div>\n",
       "<style scoped>\n",
       "    .dataframe tbody tr th:only-of-type {\n",
       "        vertical-align: middle;\n",
       "    }\n",
       "\n",
       "    .dataframe tbody tr th {\n",
       "        vertical-align: top;\n",
       "    }\n",
       "\n",
       "    .dataframe thead th {\n",
       "        text-align: right;\n",
       "    }\n",
       "</style>\n",
       "<table border=\"1\" class=\"dataframe\">\n",
       "  <thead>\n",
       "    <tr style=\"text-align: right;\">\n",
       "      <th></th>\n",
       "      <th>date</th>\n",
       "      <th>vix</th>\n",
       "      <th>vixo</th>\n",
       "      <th>vixh</th>\n",
       "      <th>vixl</th>\n",
       "    </tr>\n",
       "  </thead>\n",
       "  <tbody>\n",
       "    <tr>\n",
       "      <th>1011</th>\n",
       "      <td>1990-01-02</td>\n",
       "      <td>17.24</td>\n",
       "      <td>17.24</td>\n",
       "      <td>17.24</td>\n",
       "      <td>17.24</td>\n",
       "    </tr>\n",
       "    <tr>\n",
       "      <th>1013</th>\n",
       "      <td>1990-01-03</td>\n",
       "      <td>18.19</td>\n",
       "      <td>18.19</td>\n",
       "      <td>18.19</td>\n",
       "      <td>18.19</td>\n",
       "    </tr>\n",
       "    <tr>\n",
       "      <th>1015</th>\n",
       "      <td>1990-01-04</td>\n",
       "      <td>19.22</td>\n",
       "      <td>19.22</td>\n",
       "      <td>19.22</td>\n",
       "      <td>19.22</td>\n",
       "    </tr>\n",
       "    <tr>\n",
       "      <th>1017</th>\n",
       "      <td>1990-01-05</td>\n",
       "      <td>20.11</td>\n",
       "      <td>20.11</td>\n",
       "      <td>20.11</td>\n",
       "      <td>20.11</td>\n",
       "    </tr>\n",
       "    <tr>\n",
       "      <th>1019</th>\n",
       "      <td>1990-01-08</td>\n",
       "      <td>20.26</td>\n",
       "      <td>20.26</td>\n",
       "      <td>20.26</td>\n",
       "      <td>20.26</td>\n",
       "    </tr>\n",
       "    <tr>\n",
       "      <th>...</th>\n",
       "      <td>...</td>\n",
       "      <td>...</td>\n",
       "      <td>...</td>\n",
       "      <td>...</td>\n",
       "      <td>...</td>\n",
       "    </tr>\n",
       "    <tr>\n",
       "      <th>13333</th>\n",
       "      <td>2024-10-25</td>\n",
       "      <td>20.33</td>\n",
       "      <td>19.22</td>\n",
       "      <td>20.51</td>\n",
       "      <td>18.23</td>\n",
       "    </tr>\n",
       "    <tr>\n",
       "      <th>13334</th>\n",
       "      <td>2024-10-28</td>\n",
       "      <td>19.80</td>\n",
       "      <td>19.11</td>\n",
       "      <td>19.88</td>\n",
       "      <td>18.91</td>\n",
       "    </tr>\n",
       "    <tr>\n",
       "      <th>13335</th>\n",
       "      <td>2024-10-29</td>\n",
       "      <td>19.34</td>\n",
       "      <td>19.75</td>\n",
       "      <td>20.53</td>\n",
       "      <td>19.06</td>\n",
       "    </tr>\n",
       "    <tr>\n",
       "      <th>13336</th>\n",
       "      <td>2024-10-30</td>\n",
       "      <td>20.35</td>\n",
       "      <td>19.33</td>\n",
       "      <td>20.44</td>\n",
       "      <td>19.30</td>\n",
       "    </tr>\n",
       "    <tr>\n",
       "      <th>13337</th>\n",
       "      <td>2024-10-31</td>\n",
       "      <td>23.16</td>\n",
       "      <td>21.44</td>\n",
       "      <td>23.42</td>\n",
       "      <td>21.12</td>\n",
       "    </tr>\n",
       "  </tbody>\n",
       "</table>\n",
       "<p>11816 rows × 5 columns</p>\n",
       "</div>"
      ],
      "text/plain": [
       "             date    vix   vixo   vixh   vixl\n",
       "1011   1990-01-02  17.24  17.24  17.24  17.24\n",
       "1013   1990-01-03  18.19  18.19  18.19  18.19\n",
       "1015   1990-01-04  19.22  19.22  19.22  19.22\n",
       "1017   1990-01-05  20.11  20.11  20.11  20.11\n",
       "1019   1990-01-08  20.26  20.26  20.26  20.26\n",
       "...           ...    ...    ...    ...    ...\n",
       "13333  2024-10-25  20.33  19.22  20.51  18.23\n",
       "13334  2024-10-28  19.80  19.11  19.88  18.91\n",
       "13335  2024-10-29  19.34  19.75  20.53  19.06\n",
       "13336  2024-10-30  20.35  19.33  20.44  19.30\n",
       "13337  2024-10-31  23.16  21.44  23.42  21.12\n",
       "\n",
       "[11816 rows x 5 columns]"
      ]
     },
     "metadata": {},
     "output_type": "display_data"
    }
   ],
   "source": [
    "from CBOE_query import cboe_vix__query\n",
    "ticks=['vix'] #this is just the S&P500 VIX, CBOE puts other indexes in this file\n",
    "query=cboe_vix__query(ticks)\n",
    "#query=cboe_vix__query(['vix'],start='2004-05-08', end='2004-05-12')\n",
    "\n",
    "df = db.raw_sql(query)\n",
    "df.dropna(subset=df.columns[1:],inplace=True)\n",
    "display(df)\n",
    "dest=fr'CBOE/vix_hist.csv'\n",
    "df.to_csv(dest)"
   ]
  },
  {
   "cell_type": "markdown",
   "metadata": {},
   "source": [
    "# Yield Curve"
   ]
  },
  {
   "cell_type": "code",
   "execution_count": 29,
   "metadata": {},
   "outputs": [],
   "source": [
    "from OptionMetrics_query import yield_curve_query\n",
    "query=yield_curve_query(start='2022-01-01', end='2023-12-31')\n",
    "df = db.raw_sql(query)\n",
    "df.date=pd.to_datetime(df.date)"
   ]
  },
  {
   "cell_type": "code",
   "execution_count": 34,
   "metadata": {},
   "outputs": [],
   "source": [
    "#import pandas as pd\n",
    "#df[df.date=='2022-09-26']\n",
    "df.to_csv(r'/Users/austinclime/vs_code_projects/vix_approx/vix_approx_research/VIX_SKEW_replication/yc_sample.csv',index=False)\n"
   ]
  }
 ],
 "metadata": {
  "kernelspec": {
   "display_name": "env",
   "language": "python",
   "name": "python3"
  },
  "language_info": {
   "codemirror_mode": {
    "name": "ipython",
    "version": 3
   },
   "file_extension": ".py",
   "mimetype": "text/x-python",
   "name": "python",
   "nbconvert_exporter": "python",
   "pygments_lexer": "ipython3",
   "version": "3.8.5"
  }
 },
 "nbformat": 4,
 "nbformat_minor": 2
}
