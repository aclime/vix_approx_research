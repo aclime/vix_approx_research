{
 "cells": [
  {
   "cell_type": "code",
   "execution_count": 87,
   "metadata": {},
   "outputs": [
    {
     "data": {
      "text/plain": [
       "'/Users/austinclime/vs_code_projects/vix_approx/vix_approx_research'"
      ]
     },
     "execution_count": 87,
     "metadata": {},
     "output_type": "execute_result"
    }
   ],
   "source": [
    "import os\n",
    "os.getcwd()"
   ]
  },
  {
   "cell_type": "code",
   "execution_count": null,
   "metadata": {},
   "outputs": [],
   "source": [
    "#! pip install numpy\n",
    "\n",
    "#! pip install nbconvert\n",
    "\n"
   ]
  },
  {
   "cell_type": "code",
   "execution_count": 88,
   "metadata": {},
   "outputs": [],
   "source": [
    "import numpy as np\n",
    "import pandas as pd\n",
    "import math\n",
    "import matplotlib.pyplot as plt\n",
    "\n",
    "import ipywidgets as widgets\n",
    "from ipywidgets import VBox,HBox, Layout"
   ]
  },
  {
   "cell_type": "code",
   "execution_count": null,
   "metadata": {},
   "outputs": [],
   "source": [
    "# https://www.freecodecamp.org/news/matplotlib-figure-size-change-plot-size-in-python/\n",
    "# https://www.geeksforgeeks.org/how-to-update-a-plot-in-matplotlib/\n",
    "# https://kapernikov.com/ipywidgets-with-matplotlib/\n",
    "# https://saturncloud.io/blog/how-to-export-current-notebook-in-html-on-jupyter/"
   ]
  },
  {
   "cell_type": "code",
   "execution_count": null,
   "metadata": {},
   "outputs": [],
   "source": [
    "n=20\n",
    "ub=4\n",
    "lb=0\n",
    "dx=(ub-lb)/n\n",
    "def f(x):\n",
    "  return 3*np.sqrt(x)\n",
    "area=0\n",
    "X=np.arange(lb,ub+dx,dx)\n",
    "for i in range(len(X)-1):\n",
    "  #print(i,X[i],X[i+1],f(X[i]))\n",
    "  area+=f(X[i])*dx\n",
    "\n",
    "  xs=[X[i],X[i+1],X[i+1],X[i],X[i]]\n",
    "  ys=[0,0,f(X[i]),f(X[i]),0]\n",
    "  if i!=list(range(len(X)-1))[-1]:\n",
    "    #plt.plot(xs, ys, color=\"red\",label=f'$L_{n}$')\n",
    "    plt.plot(xs, ys, color=\"red\")\n",
    "  else:\n",
    "    #plt.plot(xs, ys, color=\"red\")\n",
    "    plt.plot(xs, ys, color=\"red\",label=f'$L_{n}$')\n",
    "\n",
    "\n",
    "step_size=0.1\n",
    "X=np.arange(lb,ub+step_size,step_size)\n",
    "plt.plot(X,f(X),label=r'$f(x)=\\frac{1}{x\\,ln\\,x}$')\n",
    "plt.xlabel('x')\n",
    "plt.ylabel('y')\n",
    "plt.legend()\n",
    "plt.show()\n",
    "print(area)"
   ]
  },
  {
   "cell_type": "code",
   "execution_count": null,
   "metadata": {},
   "outputs": [],
   "source": [
    "n=30\n",
    "ub=4\n",
    "lb=0\n",
    "dx=(ub-lb)/n\n",
    "def f(x):\n",
    "  return 3/(x+1)\n",
    "\n",
    "#X=np.arange(lb,ub+dx,dx)\n",
    "\n",
    "#step_size=0.1\n",
    "step_size=dx\n",
    "X=np.arange(lb,ub+step_size,step_size)\n",
    "\n",
    "plt.figure(figsize=(10,6))\n",
    "plt.subplot(2, 1, 1)\n",
    "\n",
    "#plot 1:\n",
    "\n",
    "xs=[]\n",
    "ys=[]\n",
    "for i in range(len(X)-1):\n",
    "  x_i=[X[i],X[i+1],X[i+1],X[i],X[i]]\n",
    "  y_i=[0,0,f(X[i]),f(X[i]),0]\n",
    "  xs.extend(x_i)\n",
    "  ys.extend(y_i)\n",
    "\n",
    "\n",
    "plt.plot(xs, ys, color=\"red\",label=f'$Lefthand$')\n",
    "\n",
    "\n",
    "\n",
    "plt.plot(X,f(X),label=r'$f(x)=\\frac{3}{x+1}$')\n",
    "plt.xlabel('x')\n",
    "plt.ylabel('y')\n",
    "plt.legend()\n",
    "#plt.show()\n",
    "\n",
    "\n",
    "#plt.plot(x,y)\n",
    "\n",
    "#plot 2:\n",
    "plt.subplot(2, 1, 2)\n",
    "\n",
    "xs=[]\n",
    "ys=[]\n",
    "for i in range(len(X)-1):\n",
    "  x_i=[X[i],X[i+1],X[i+1],X[i],X[i]]\n",
    "  y_i=[0,0,f(X[i+1]),f(X[i+1]),0]\n",
    "  xs.extend(x_i)\n",
    "  ys.extend(y_i)\n",
    "\n",
    "\n",
    "plt.plot(xs, ys, color=\"red\",label=f'$Righthand$')\n",
    "\n",
    "plt.plot(X,f(X),label=r'$f(x)=\\frac{3}{x+1}$')\n",
    "plt.xlabel('x')\n",
    "plt.ylabel('y')\n",
    "plt.legend()\n",
    "\n",
    "\n",
    "plt.show()"
   ]
  },
  {
   "cell_type": "code",
   "execution_count": null,
   "metadata": {},
   "outputs": [],
   "source": [
    "n=30\n",
    "ub=4\n",
    "lb=0\n",
    "\n",
    "\n",
    "def make_plot(n,ub,lb):\n",
    "    dx=(ub-lb)/n\n",
    "    def f(x):\n",
    "        return 3/(x+1)\n",
    "\n",
    "    #X=np.arange(lb,ub+dx,dx)\n",
    "\n",
    "    #step_size=0.1\n",
    "    step_size=dx\n",
    "    X=np.arange(lb,ub+step_size,step_size)\n",
    "\n",
    "    plt.figure(figsize=(10,6))\n",
    "    plt.subplot(2, 1, 1)\n",
    "\n",
    "    #plot 1:\n",
    "    xs=[]\n",
    "    ys=[]\n",
    "    for i in range(len(X)-1):\n",
    "        x_i=[X[i],X[i+1],X[i+1],X[i],X[i]]\n",
    "        y_i=[0,0,f(X[i]),f(X[i]),0]\n",
    "        xs.extend(x_i)\n",
    "        ys.extend(y_i)\n",
    "    plt.plot(xs, ys, color=\"red\",label=f'$Lefthand$')\n",
    "\n",
    "    plt.plot(X,f(X),label=r'$f(x)=\\frac{3}{x+1}$')\n",
    "    plt.xlabel('x')\n",
    "    plt.ylabel('y')\n",
    "    plt.legend()\n",
    "    plt.show()\n",
    "\n",
    "make_plot(n,ub,lb)\n",
    "\n",
    "def update_plot(change):\n",
    "    return make_plot(change['new'],ub,lb)\n",
    "\n",
    "\n",
    "\n",
    "\n",
    "\n",
    "def my_ui(_):\n",
    "\n",
    "    style={'description_width':'200px'}\n",
    "    layout={'description_width':'900px'}\n",
    "    out=widgets.Output(layout=layout,style=style)\n",
    "     \n",
    "\n",
    "    slider=widgets.IntSlider(\n",
    "                value=7,\n",
    "                min=0,\n",
    "                max=10,\n",
    "                step=1,\n",
    "                description='Test:',\n",
    "                disabled=False,\n",
    "                continuous_update=False,\n",
    "                orientation='horizontal',\n",
    "                readout=True,\n",
    "                readout_format='d')\n",
    "\n",
    "    slider.observe(update_plot,'value')\n",
    "\n",
    "    UI=VBox([\n",
    "        HBox([slider]),\n",
    "        out])\n",
    "\n",
    "    return UI\n",
    "\n",
    "\n",
    "my_ui(_)"
   ]
  },
  {
   "cell_type": "code",
   "execution_count": null,
   "metadata": {},
   "outputs": [],
   "source": []
  },
  {
   "cell_type": "code",
   "execution_count": 84,
   "metadata": {},
   "outputs": [
    {
     "data": {
      "application/vnd.jupyter.widget-view+json": {
       "model_id": "09edfdf351df4bbba2c06216b7bcfc42",
       "version_major": 2,
       "version_minor": 0
      },
      "text/plain": [
       "VBox(children=(HBox(children=(IntSlider(value=7, continuous_update=False, description='Num of Steps:', max=10,…"
      ]
     },
     "metadata": {},
     "output_type": "display_data"
    },
    {
     "data": {
      "image/png": "[encoded data removed]",
      "text/plain": [
       "<Figure size 720x432 with 1 Axes>"
      ]
     },
     "metadata": {
      "needs_background": "light"
     },
     "output_type": "display_data"
    },
    {
     "data": {
      "image/png": "[encoded data removed]",
      "text/plain": [
       "<Figure size 720x432 with 1 Axes>"
      ]
     },
     "metadata": {
      "needs_background": "light"
     },
     "output_type": "display_data"
    }
   ],
   "source": [
    "n=30\n",
    "ub=4\n",
    "lb=0\n",
    "\n",
    "def f(x):\n",
    "    return 3/(x+1)\n",
    "\n",
    "def lefthand_approx(n,ub,lb):\n",
    "    dx=(ub-lb)/n\n",
    "    step_size=dx\n",
    "    X=np.arange(lb,ub+step_size,step_size)\n",
    "    xs=[]\n",
    "    ys=[]\n",
    "    for i in range(len(X)-1):\n",
    "        x_i=[X[i],X[i+1],X[i+1],X[i],X[i]]\n",
    "        y_i=[0,0,f(X[i]),f(X[i]),0]\n",
    "        xs.extend(x_i)\n",
    "        ys.extend(y_i)\n",
    "    return xs,ys\n",
    "\n",
    "\n",
    "def make_plot(n,ub,lb):\n",
    "    #plt.clf()\n",
    "    dx=(ub-lb)/n\n",
    "    #X=np.arange(lb,ub+dx,dx)\n",
    "    #step_size=0.1\n",
    "    step_size=dx\n",
    "    X=np.arange(lb,ub+step_size,step_size)\n",
    "\n",
    "    plt.figure(figsize=(10,6))\n",
    "    plt.subplot(2, 1, 1)\n",
    "\n",
    "    xs,ys=lefthand_approx(n,ub,lb)\n",
    "    plt.plot(xs, ys, color=\"red\",label=f'$Lefthand$')\n",
    "\n",
    "    plt.plot(X,f(X),label=r'$f(x)=\\frac{3}{x+1}$')\n",
    "    plt.xlabel('x')\n",
    "    plt.ylabel('y')\n",
    "    plt.legend()\n",
    "    #plt.show()\n",
    "\n",
    "\n",
    "\n",
    "def update_num_steps(change):\n",
    "    #plt.clf()\n",
    "    #return make_plot(change['new'],ub,lb)\n",
    "    make_plot(change['new'],ub,lb)\n",
    "\n",
    "\n",
    "\n",
    "def my_ui(_):\n",
    "\n",
    "    style={'description_width':'200px'}\n",
    "    layout={'description_width':'900px'}\n",
    "    out=widgets.Output(layout=layout,style=style)\n",
    "     \n",
    "\n",
    "    slider=widgets.IntSlider(\n",
    "                value=7,\n",
    "                min=1,\n",
    "                max=10,\n",
    "                step=1,\n",
    "                description='Num of Steps:',\n",
    "                disabled=False,\n",
    "                continuous_update=False,\n",
    "                orientation='horizontal',\n",
    "                readout=True,\n",
    "                readout_format='d')\n",
    "\n",
    "    slider.observe(update_num_steps,'value')\n",
    "\n",
    "    UI=VBox([\n",
    "        HBox([slider]),\n",
    "        out])\n",
    "\n",
    "    return UI\n",
    "\n",
    "\n",
    "display(my_ui(_))\n",
    "\n",
    "make_plot(n,ub,lb)\n",
    "#plt.figure(figsize=(10,6))\n",
    "#plt.subplot(2, 1, 1)\n",
    "plt.show()\n",
    "\n"
   ]
  },
  {
   "cell_type": "code",
   "execution_count": 86,
   "metadata": {},
   "outputs": [
    {
     "name": "stdout",
     "output_type": "stream",
     "text": [
      "[NbConvertApp] Converting notebook simpson.ipynb to html\n",
      "[NbConvertApp] Writing 584344 bytes to simpson.html\n"
     ]
    }
   ],
   "source": [
    "! jupyter nbconvert --to html --no-input simpson.ipynb\n",
    "#! jupyter nbconvert --to html simpson.ipynb"
   ]
  },
  {
   "cell_type": "code",
   "execution_count": null,
   "metadata": {},
   "outputs": [],
   "source": []
  },
  {
   "cell_type": "code",
   "execution_count": 2,
   "metadata": {},
   "outputs": [
    {
     "name": "stdout",
     "output_type": "stream",
     "text": [
      "Collecting numpy\n",
      "  Downloading numpy-1.24.4-cp38-cp38-macosx_10_9_x86_64.whl (19.8 MB)\n",
      "\u001b[K     |████████████████████████████████| 19.8 MB 6.6 MB/s eta 0:00:01\n",
      "\u001b[?25hInstalling collected packages: numpy\n",
      "  Attempting uninstall: numpy\n",
      "    Found existing installation: numpy 1.19.2\n",
      "    Uninstalling numpy-1.19.2:\n",
      "      Successfully uninstalled numpy-1.19.2\n",
      "\u001b[31mERROR: After October 2020 you may experience errors when installing or updating packages. This is because pip will change the way that it resolves dependency conflicts.\n",
      "\n",
      "We recommend you use --use-feature=2020-resolver to test your packages with the new resolver before it becomes the default.\n",
      "\n",
      "modin 0.8.3 requires pandas==1.1.5, but you'll have pandas 1.2.3 which is incompatible.\u001b[0m\n",
      "Successfully installed numpy-1.24.4\n"
     ]
    }
   ],
   "source": [
    "#! pip install ipympl \n",
    "#! pip install numpy --upgrade\n",
    "\n",
    "# We recommend you use --use-feature=2020-resolver to test your packages with the new resolver before it becomes the default."
   ]
  },
  {
   "cell_type": "code",
   "execution_count": 1,
   "metadata": {},
   "outputs": [
    {
     "data": {
      "application/vnd.jupyter.widget-view+json": {
       "model_id": "9bd0f27246b940019abe0a3a1facb187",
       "version_major": 2,
       "version_minor": 0
      },
      "text/plain": [
       "interactive(children=(Dropdown(description='name', options=('Jim', 'Emma', 'Bond'), value='Jim'), Output()), _…"
      ]
     },
     "metadata": {},
     "output_type": "display_data"
    }
   ],
   "source": [
    "#! pip install ipympl \n",
    "%matplotlib widget\n",
    "import numpy as np\n",
    "import ipywidgets as widgets\n",
    "import matplotlib.pyplot as plt\n",
    "\n",
    "\n",
    "def say_my_name(name):\n",
    "    \"\"\"\n",
    "    Print the current widget value in short sentence\n",
    "    \"\"\"\n",
    "    print(f'My name is {name}')\n",
    "     \n",
    "widgets.interact(say_my_name, name=[\"Jim\", \"Emma\", \"Bond\"]);"
   ]
  },
  {
   "cell_type": "code",
   "execution_count": 9,
   "metadata": {},
   "outputs": [
    {
     "data": {
      "application/vnd.jupyter.widget-view+json": {
       "model_id": "38aaaeeb9c4340d6b27a49631c75b76b",
       "version_major": 2,
       "version_minor": 0
      },
      "text/plain": [
       "IntSlider(value=1, continuous_update=False, description='$\\\\Omega$', max=10)"
      ]
     },
     "execution_count": 9,
     "metadata": {},
     "output_type": "execute_result"
    },
    {
     "data": {
      "application/vnd.jupyter.widget-view+json": {
       "model_id": "0448431eb32c4849ab4cf2c1bf414834",
       "version_major": 2,
       "version_minor": 0
      },
      "image/png": "[encoded data removed]",
      "text/html": [
       "\n",
       "            <div style=\"display: inline-block;\">\n",
       "                <div class=\"jupyter-widgets widget-label\" style=\"text-align: center;\">\n",
       "                    Figure\n",
       "                </div>\n",
       "                <img src='data:image/png;base64,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' width=640.0/>\n",
       "            </div>\n",
       "        "
      ],
      "text/plain": [
       "Canvas(toolbar=Toolbar(toolitems=[('Home', 'Reset original view', 'home', 'home'), ('Back', 'Back to previous …"
      ]
     },
     "metadata": {},
     "output_type": "display_data"
    }
   ],
   "source": [
    "x = np.linspace(0, 2 * np.pi, 100)\n",
    " \n",
    "fig, ax = plt.subplots()\n",
    "line, = ax.plot(x, np.sin(x))\n",
    "ax.grid(True)\n",
    " \n",
    "def update(change):\n",
    "    line.set_ydata(np.sin(change.new * x))\n",
    "    fig.canvas.draw()\n",
    "     \n",
    "int_slider = widgets.IntSlider(\n",
    "    value=1, \n",
    "    min=0, max=10, step=1,\n",
    "    description='$\\Omega$',\n",
    "    continuous_update=False\n",
    ")\n",
    "int_slider.observe(update, 'value')\n",
    "int_slider"
   ]
  },
  {
   "cell_type": "code",
   "execution_count": null,
   "metadata": {},
   "outputs": [],
   "source": []
  },
  {
   "cell_type": "code",
   "execution_count": null,
   "metadata": {},
   "outputs": [],
   "source": [
    "x = np.linspace(0, 2 * np.pi, 100)\n",
    " \n",
    "fig, ax = plt.subplots()\n",
    "line, = ax.plot(x, np.sin(x))\n",
    "ax.grid(True)\n",
    " \n",
    "def update(change):\n",
    "    line.set_ydata(np.sin(change.new * x))\n",
    "    fig.canvas.draw()\n",
    "     \n",
    "int_slider = widgets.IntSlider(\n",
    "    value=1, \n",
    "    min=0, max=10, step=1,\n",
    "    description='$\\Omega$',\n",
    "    continuous_update=False\n",
    ")\n",
    "int_slider.observe(update, 'value')\n",
    "int_slider"
   ]
  }
 ],
 "metadata": {
  "kernelspec": {
   "display_name": "Python 3",
   "language": "python",
   "name": "python3"
  },
  "language_info": {
   "codemirror_mode": {
    "name": "ipython",
    "version": 3
   },
   "file_extension": ".py",
   "mimetype": "text/x-python",
   "name": "python",
   "nbconvert_exporter": "python",
   "pygments_lexer": "ipython3",
   "version": "3.8.5"
  }
 },
 "nbformat": 4,
 "nbformat_minor": 2
}
